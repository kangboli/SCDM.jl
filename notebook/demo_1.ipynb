{
 "cells": [
  {
   "cell_type": "code",
   "execution_count": 31,
   "id": "2cca5ff9-506b-46ea-8c05-3cf35b582ed7",
   "metadata": {},
   "outputs": [],
   "source": [
    "using WTP\n",
    "using SCDM\n",
    "using Test\n",
    "using LinearAlgebra"
   ]
  },
  {
   "cell_type": "markdown",
   "id": "afef34c0-50bb-4f41-b438-29d7a188d094",
   "metadata": {},
   "source": [
    "Read the wave functions from the `wfc?.dat` files."
   ]
  },
  {
   "cell_type": "code",
   "execution_count": 32,
   "id": "3180a4bc-f5bd-49a8-9a89-60268434b97f",
   "metadata": {},
   "outputs": [],
   "source": [
    "const test_1_dir = \"../test/test_data/test_1\"\n",
    "wave_functions_list = wave_functions_from_directory(joinpath(test_1_dir, \"si.save\"));"
   ]
  },
  {
   "cell_type": "code",
   "execution_count": 33,
   "id": "cc5d7d36-c260-4b74-84ac-7ababc857e48",
   "metadata": {},
   "outputs": [],
   "source": [
    "u = wannier_from_save(wave_functions_list)\n",
    "k_map, brillouin_zone = i_kpoint_map(wave_functions_list);\n",
    "# wave_functions_list = nothing # release the memory"
   ]
  },
  {
   "cell_type": "markdown",
   "id": "21459043-b91a-4a5d-9afc-a0439087518b",
   "metadata": {},
   "source": [
    "## Notations"
   ]
  },
  {
   "cell_type": "markdown",
   "id": "0243aef8-c47a-49fe-82ae-5477fdcc0db6",
   "metadata": {},
   "source": [
    "### Grid Indexing\n",
    "\n",
    "Indexing a grid yields a grid vector. \n",
    "For example, indexing the Brillouin zone yields a kpoint."
   ]
  },
  {
   "cell_type": "code",
   "execution_count": 34,
   "id": "b063d89d-cd73-4a4a-90a7-04cca1f73650",
   "metadata": {},
   "outputs": [
    {
     "data": {
      "text/plain": [
       "GridVector{BrillouinZone3D}:\n",
       "    _coefficients: [0, 0, 0]\n"
      ]
     },
     "execution_count": 34,
     "metadata": {},
     "output_type": "execute_result"
    }
   ],
   "source": [
    "Γ = brillouin_zone[0, 0, 0]"
   ]
  },
  {
   "cell_type": "markdown",
   "id": "b499c451-b63d-4336-b29b-ee02a79052b1",
   "metadata": {},
   "source": [
    "### Band Indexing\n",
    "\n",
    "Indexing the object `u` with a kpoint and a band index gives an orbital."
   ]
  },
  {
   "cell_type": "code",
   "execution_count": 35,
   "id": "f9d8e4cb-ae40-4535-a4b0-0fc41754bab1",
   "metadata": {},
   "outputs": [
    {
     "data": {
      "text/html": [
       "<ul>\n",
       "    <li>Type: UnkBasisOrbital{ReciprocalLattice3D}</li>\n",
       "    <li>Grid: <ul>\n",
       "    <li>Type: ReciprocalLattice3D</li>\n",
       "    <li>Domain: <ul><li>from -12 to 11</li>\n",
       "<li>from -12 to 11</li>\n",
       "<li>from -12 to 11</li></ul></li>\n",
       "    <li>Basis: <ul><li>ket: -0.612, -0.612, 0.612</li>\n",
       "<li>ket: 0.612, 0.612, 0.612</li>\n",
       "<li>ket: -0.612, 0.612, -0.612</li></ul></li>\n",
       "    </ul></li>\n",
       "    </ul>\n",
       "    \n"
      ],
      "text/plain": [
       "ket\n",
       "grid:\n",
       "    ReciprocalLattice3D((ket: -0.612, -0.612, 0.612, ket: 0.612, 0.612, 0.612, ket: -0.612, 0.612, -0.612), ((-12, 11), (-12, 11), (-12, 11)))\n",
       "kpoint:\n",
       "    GridVector{BrillouinZone3D}:\n",
       "        _coefficients: [0, 0, 0]\n",
       "    \n",
       "band:\n",
       "    1"
      ]
     },
     "execution_count": 35,
     "metadata": {},
     "output_type": "execute_result"
    }
   ],
   "source": [
    "u_1_Γ = u[Γ][1]"
   ]
  },
  {
   "cell_type": "markdown",
   "id": "a43335b3-f308-480b-9f54-7ff2578b71e0",
   "metadata": {},
   "source": [
    "### Orbital Indexing\n",
    "\n",
    "An orbital can be indexed by a grid vector, which can be obtained by indexing a grid."
   ]
  },
  {
   "cell_type": "code",
   "execution_count": 36,
   "id": "8355c41a-ed40-4342-bc43-d3a2f464c5f0",
   "metadata": {},
   "outputs": [
    {
     "data": {
      "text/html": [
       "<ul>\n",
       "    <li>Type: ReciprocalLattice3D</li>\n",
       "    <li>Domain: <ul><li>from -12 to 11</li>\n",
       "<li>from -12 to 11</li>\n",
       "<li>from -12 to 11</li></ul></li>\n",
       "    <li>Basis: <ul><li>ket: -0.612, -0.612, 0.612</li>\n",
       "<li>ket: 0.612, 0.612, 0.612</li>\n",
       "<li>ket: -0.612, 0.612, -0.612</li></ul></li>\n",
       "    </ul>\n"
      ],
      "text/plain": [
       "type: ReciprocalLattice3D\n",
       "domain: ((-12, 11), (-12, 11), (-12, 11))\n",
       "basis:\n",
       "    ket: -0.612, -0.612, 0.612\n",
       "    ket: 0.612, 0.612, 0.612\n",
       "    ket: -0.612, 0.612, -0.612\n"
      ]
     },
     "execution_count": 36,
     "metadata": {},
     "output_type": "execute_result"
    }
   ],
   "source": [
    "reciprocal_lattice = grid(u_1_Γ)"
   ]
  },
  {
   "cell_type": "code",
   "execution_count": 37,
   "id": "5f23df45-076b-4f79-97cd-808067d51dfe",
   "metadata": {},
   "outputs": [
    {
     "data": {
      "text/plain": [
       "0.9999999999999976"
      ]
     },
     "execution_count": 37,
     "metadata": {},
     "output_type": "execute_result"
    }
   ],
   "source": [
    "orbital_norm = 0\n",
    "for G in reciprocal_lattice\n",
    "    orbital_norm += abs2(u_1_Γ[G])\n",
    "end\n",
    "orbital_norm"
   ]
  },
  {
   "cell_type": "markdown",
   "id": "50d61cf7-38fd-4ec9-b028-9d3681820133",
   "metadata": {},
   "source": [
    "### Perform a Fourier transform."
   ]
  },
  {
   "cell_type": "code",
   "execution_count": 38,
   "id": "852739d8-70ea-4123-947a-756e546fb316",
   "metadata": {},
   "outputs": [],
   "source": [
    "u_real = ifft(u);"
   ]
  },
  {
   "cell_type": "markdown",
   "id": "2bb36aa9-b9d3-4471-a8ee-4565e12f8d50",
   "metadata": {},
   "source": [
    "### Perform an SCDM."
   ]
  },
  {
   "cell_type": "code",
   "execution_count": 78,
   "id": "6c36ba13-3424-47e3-a1d9-541500081e0a",
   "metadata": {},
   "outputs": [
    {
     "ename": "LoadError",
     "evalue": "MethodError: objects of type Complex{Bool} are not callable\nMaybe you forgot to use an operator such as \u001b[36m*, ^, %, / etc. \u001b[39m?",
     "output_type": "error",
     "traceback": [
      "MethodError: objects of type Complex{Bool} are not callable\nMaybe you forgot to use an operator such as \u001b[36m*, ^, %, / etc. \u001b[39m?",
      "",
      "Stacktrace:",
      "  [1] (::SCDM.var\"#108#110\"{GridVector{BrillouinZone3D}})(r::GridVector{HomeCell3D})",
      "    @ SCDM ~/.julia/dev/SCDM/src/Vanilla.jl:10",
      "  [2] _broadcast_getindex_evalf",
      "    @ ./broadcast.jl:670 [inlined]",
      "  [3] _broadcast_getindex",
      "    @ ./broadcast.jl:643 [inlined]",
      "  [4] getindex",
      "    @ ./broadcast.jl:597 [inlined]",
      "  [5] copy(bc::Base.Broadcast.Broadcasted{Base.Broadcast.DefaultArrayStyle{1}, Tuple{Base.OneTo{Int64}}, SCDM.var\"#108#110\"{GridVector{BrillouinZone3D}}, Tuple{Vector{GridVector{HomeCell3D}}}})",
      "    @ Base.Broadcast ./broadcast.jl:899",
      "  [6] materialize",
      "    @ ./broadcast.jl:860 [inlined]",
      "  [7] scdm_condense_phase(u::Wannier{UnkBasisOrbital{HomeCell3D}}, bands::Vector{Int64}, ortho::Bool)",
      "    @ SCDM ~/.julia/dev/SCDM/src/Vanilla.jl:29",
      "  [8] scdm_condense_phase(u::Wannier{UnkBasisOrbital{HomeCell3D}}, bands::Vector{Int64})",
      "    @ SCDM ~/.julia/dev/SCDM/src/Vanilla.jl:11",
      "  [9] top-level scope",
      "    @ In[78]:1",
      " [10] eval",
      "    @ ./boot.jl:373 [inlined]",
      " [11] include_string(mapexpr::typeof(REPL.softscope), mod::Module, code::String, filename::String)",
      "    @ Base ./loading.jl:1196"
     ]
    }
   ],
   "source": [
    "U = scdm_condense_phase(u_real, collect(1:20));"
   ]
  },
  {
   "cell_type": "code",
   "execution_count": 68,
   "id": "03a58b87",
   "metadata": {},
   "outputs": [
    {
     "data": {
      "text/plain": [
       "20×20 Matrix{ComplexF64}:\n",
       "   0.220397-0.0469504im   …    0.0940595-0.0146979im\n",
       "   0.207291-0.299289im         0.0187225-0.0402761im\n",
       "  -0.268417+0.0992527im       -0.0200048-0.00244999im\n",
       "  -0.169643-0.0780606im       0.00436412+0.0138434im\n",
       "  0.0997161+0.025793im        -0.0107589-0.000567389im\n",
       "  -0.121138+0.0476662im   …    0.0157134+0.000340948im\n",
       "  0.0322895-0.00553159im     -0.00513031+0.012819im\n",
       "   0.226064-0.0975009im        -0.206777+0.105184im\n",
       "  0.0378104+0.175016im        -0.0180337-0.0966849im\n",
       "  -0.138616-0.190889im         0.0163735+0.0189412im\n",
       "  -0.212651-0.0591912im   …     0.273434+0.0827288im\n",
       "  0.0516555-0.0067475im       -0.0117035-0.0428774im\n",
       "  0.0053448-0.0101693im       -0.0695488-0.127674im\n",
       " -0.0133018+0.0181965im        0.0307237+0.00625571im\n",
       "  -0.104749-0.0830201im        -0.639294-0.636184im\n",
       " -0.0434948+0.0133361im   …    0.0322762-0.0252773im\n",
       "   0.183678+0.0515426im        0.0176984-0.0263148im\n",
       "  -0.127523-0.250956im         0.0195777-0.0126257im\n",
       " -0.0320437-0.132735im        0.00162993+0.0212367im\n",
       "  -0.272489+0.492351im         0.0278938-0.00887512im"
      ]
     },
     "execution_count": 68,
     "metadata": {},
     "output_type": "execute_result"
    }
   ],
   "source": [
    "U[Γ]"
   ]
  },
  {
   "cell_type": "markdown",
   "id": "475d360a-92b4-403f-ad34-3e6bb734fe41",
   "metadata": {},
   "source": [
    "Verify the result by comparing it to the output of Anil's Matlab code.\n",
    "We read the `amn` file produced by the Matlab code and contruct a gauge."
   ]
  },
  {
   "cell_type": "code",
   "execution_count": 69,
   "id": "352580a7-e63e-48bb-b3b0-92367d3429f7",
   "metadata": {},
   "outputs": [],
   "source": [
    "amn = AMN(joinpath(test_1_dir, \"unk\", \"si.amn\"))\n",
    "U_matlab = Gauge(brillouin_zone, amn, k_map, false);"
   ]
  },
  {
   "cell_type": "code",
   "execution_count": 76,
   "id": "91270c60-5fd8-457b-a382-0cc2e247e361",
   "metadata": {},
   "outputs": [],
   "source": [
    "for k in brillouin_zone\n",
    "    @test norm(U[k] - U_matlab[k]) < 1e-5\n",
    "end"
   ]
  },
  {
   "cell_type": "code",
   "execution_count": 19,
   "id": "2a5bd717",
   "metadata": {},
   "outputs": [
    {
     "data": {
      "text/plain": [
       "20×20 Matrix{ComplexF64}:\n",
       "   0.220397-0.0469504im   …    0.0940595-0.0146979im\n",
       "   0.207291-0.299289im         0.0187225-0.0402761im\n",
       "  -0.268417+0.0992527im       -0.0200048-0.00244999im\n",
       "  -0.169643-0.0780606im       0.00436412+0.0138434im\n",
       "  0.0997161+0.025793im        -0.0107589-0.000567389im\n",
       "  -0.121138+0.0476662im   …    0.0157134+0.000340948im\n",
       "  0.0322895-0.00553159im     -0.00513031+0.012819im\n",
       "   0.226064-0.0975009im        -0.206777+0.105184im\n",
       "  0.0378104+0.175016im        -0.0180337-0.0966849im\n",
       "  -0.138616-0.190889im         0.0163735+0.0189412im\n",
       "  -0.212651-0.0591912im   …     0.273434+0.0827288im\n",
       "  0.0516555-0.0067475im       -0.0117035-0.0428774im\n",
       "  0.0053448-0.0101693im       -0.0695488-0.127674im\n",
       " -0.0133018+0.0181965im        0.0307237+0.00625571im\n",
       "  -0.104749-0.0830202im        -0.639294-0.636184im\n",
       " -0.0434948+0.0133361im   …    0.0322762-0.0252773im\n",
       "   0.183678+0.0515426im        0.0176984-0.0263148im\n",
       "  -0.127523-0.250956im         0.0195777-0.0126257im\n",
       " -0.0320437-0.132735im        0.00162993+0.0212367im\n",
       "  -0.272489+0.492351im         0.0278938-0.00887512im"
      ]
     },
     "execution_count": 19,
     "metadata": {},
     "output_type": "execute_result"
    }
   ],
   "source": [
    "U_matlab[Γ]"
   ]
  },
  {
   "cell_type": "code",
   "execution_count": 18,
   "id": "d5877b4a",
   "metadata": {},
   "outputs": [
    {
     "data": {
      "text/plain": [
       "20×20 Matrix{ComplexF64}:\n",
       "   0.0351608-0.18668im     …    -0.0653557+0.0536939im\n",
       "   0.0717031-0.123341im           0.092391+0.00092641im\n",
       "    0.182487-0.00130938im     -0.000805109-0.0557736im\n",
       "   -0.300406-0.157748im         -0.0159457+0.0325468im\n",
       "   0.0681666+0.137218im          -0.161034+0.0425359im\n",
       "    0.160186+0.180599im    …      0.046608+0.00395483im\n",
       "   0.0314086+0.117126im         -0.0167712+0.040016im\n",
       "  -0.0957558-0.201156im          -0.142488-0.248178im\n",
       "     0.26726+0.249331im         -0.0881065+0.0523417im\n",
       " -0.00912637-0.0157625im        0.00248623-0.0296463im\n",
       "    0.166552-0.0531958im   …     0.0523666-0.391779im\n",
       "   0.0697087+0.196419im          -0.377086-0.058293im\n",
       "    0.185133+0.00480448im         0.076885+0.0351499im\n",
       "  -0.0274167+0.0314689im        -0.0115886+0.0845463im\n",
       "   0.0694782+0.0963492im         0.0298293+0.0255014im\n",
       "    0.178538+0.36341im     …    -0.0647763+0.0458345im\n",
       "  -0.0134163+0.264442im         -0.0149777+0.320285im\n",
       "   0.0812385-0.27338im            -0.44881+0.470597im\n",
       "    0.230366-0.145817im          0.0407473+0.0178373im\n",
       "   0.0146641-0.0319365im         0.0512152+0.0199247im"
      ]
     },
     "execution_count": 18,
     "metadata": {},
     "output_type": "execute_result"
    }
   ],
   "source": [
    "U[Γ]"
   ]
  },
  {
   "cell_type": "markdown",
   "id": "0747d833-eac1-4be2-9df0-31293f01b137",
   "metadata": {},
   "source": [
    "### Centers and Spreads\n",
    "\n",
    "Compute the centers and the spreads of the Wannier function.\n",
    "The numeric values are outputs from Wannier90.\n",
    "\n",
    "Constructing the MMN matrix is in fact a $O(N^2 N_g N_b)$ time algorithm. $N_b$ is the number of neighbors, which can be treated as a constant."
   ]
  },
  {
   "cell_type": "code",
   "execution_count": 20,
   "id": "6b16e0f9-0c8d-4dfb-b24b-e53208d7c499",
   "metadata": {
    "tags": []
   },
   "outputs": [
    {
     "name": "stderr",
     "output_type": "stream",
     "text": [
      "\u001b[32mProgress: 100%|████████████████████████████████████████████████████████████████████████████████████████████████████████████████████████████████████████████████████████████████████████████████████████████████████████████████████████| Time: 0:00:03\u001b[39m\n"
     ]
    }
   ],
   "source": [
    "scheme = W90FiniteDifference(u);"
   ]
  },
  {
   "cell_type": "code",
   "execution_count": 21,
   "id": "ae5f7e5f-337d-44ae-8bbb-9b524f4b86e1",
   "metadata": {
    "tags": []
   },
   "outputs": [],
   "source": [
    "M = gauge_transform(neighbor_basis_integral(scheme), U);"
   ]
  },
  {
   "cell_type": "code",
   "execution_count": 22,
   "id": "0f89166a-d70b-41d7-b711-610af7c439c9",
   "metadata": {},
   "outputs": [
    {
     "data": {
      "text/plain": [
       "\u001b[32m\u001b[1mTest Passed\u001b[22m\u001b[39m"
      ]
     },
     "execution_count": 22,
     "metadata": {},
     "output_type": "execute_result"
    }
   ],
   "source": [
    "@test isapprox(center(M, scheme, 1), [1.751302, -3.656156, -3.154520], atol = 1e-6)\n",
    "@test isapprox(center(M, scheme, 2), [0.662933, 1.224859, 0.588340], atol = 1e-6)\n",
    "@test isapprox(center(M, scheme, 3), [0.751350, -1.252297, 0.334295], atol = 1e-6)\n",
    "@test isapprox(center(M, scheme, 4), [0.745342, 0.390014, -1.239850], atol = 1e-6)"
   ]
  },
  {
   "cell_type": "code",
   "execution_count": 23,
   "id": "938e0da1-3315-4f5c-bced-44da269251dd",
   "metadata": {},
   "outputs": [
    {
     "data": {
      "text/plain": [
       "\u001b[32m\u001b[1mTest Passed\u001b[22m\u001b[39m"
      ]
     },
     "execution_count": 23,
     "metadata": {},
     "output_type": "execute_result"
    }
   ],
   "source": [
    "spread(n) = second_moment(M, scheme, n) - norm(center(M, scheme, n))^2\n",
    "\n",
    "@test isapprox(spread(1), 15.47179726, atol = 1e-6)\n",
    "@test isapprox(spread(2), 13.17038702, atol = 1e-6)\n",
    "@test isapprox(spread(3), 7.64407335, atol = 1e-6)\n",
    "@test isapprox(spread(4), 8.25678268, atol = 1e-6)"
   ]
  },
  {
   "cell_type": "code",
   "execution_count": null,
   "id": "553ff531-c17a-4123-b319-6ddc54aace1a",
   "metadata": {},
   "outputs": [],
   "source": [
    "using CairoMakie"
   ]
  },
  {
   "cell_type": "code",
   "execution_count": null,
   "id": "f145b95f-04a8-4b4f-b15f-e964ace88edb",
   "metadata": {},
   "outputs": [],
   "source": [
    "scatter(1:20, spread.(1:20))"
   ]
  },
  {
   "cell_type": "code",
   "execution_count": null,
   "id": "57f6d1e9-7de9-44ad-ba02-27ab71482c85",
   "metadata": {},
   "outputs": [],
   "source": []
  }
 ],
 "metadata": {
  "kernelspec": {
   "display_name": "Julia 1.7.0",
   "language": "julia",
   "name": "julia-1.7"
  },
  "language_info": {
   "file_extension": ".jl",
   "mimetype": "application/julia",
   "name": "julia",
   "version": "1.7.0"
  }
 },
 "nbformat": 4,
 "nbformat_minor": 5
}
