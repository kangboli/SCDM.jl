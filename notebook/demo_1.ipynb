{
 "cells": [
  {
   "cell_type": "code",
   "execution_count": 7,
   "id": "2cca5ff9-506b-46ea-8c05-3cf35b582ed7",
   "metadata": {},
   "outputs": [
    {
     "name": "stderr",
     "output_type": "stream",
     "text": [
      "┌ Info: Precompiling WTP [7f2d596f-d764-40ee-883d-fa5ff5538bc6]\n",
      "└ @ Base loading.jl:1342\n",
      "┌ Info: Precompiling SCDM [1a6f3412-296b-4a74-a079-535a7d500bdf]\n",
      "└ @ Base loading.jl:1342\n"
     ]
    }
   ],
   "source": [
    "using WTP\n",
    "using SCDM\n",
    "using Test\n",
    "using LinearAlgebra"
   ]
  },
  {
   "cell_type": "markdown",
   "id": "afef34c0-50bb-4f41-b438-29d7a188d094",
   "metadata": {},
   "source": [
    "Read the wave functions from the `wfc?.dat` files."
   ]
  },
  {
   "cell_type": "code",
   "execution_count": 8,
   "id": "3180a4bc-f5bd-49a8-9a89-60268434b97f",
   "metadata": {},
   "outputs": [],
   "source": [
    "const test_1_dir = \"../test/test_data/test_1\"\n",
    "wave_functions_list = wave_functions_from_directory(joinpath(test_1_dir, \"si.save\"));"
   ]
  },
  {
   "cell_type": "code",
   "execution_count": 9,
   "id": "cc5d7d36-c260-4b74-84ac-7ababc857e48",
   "metadata": {},
   "outputs": [
    {
     "name": "stderr",
     "output_type": "stream",
     "text": [
      "\u001b[32mProgress: 100%|████████████████████████████████████████████████████████████████████████████████████████████████████████████████████████████████████████████████████████████████████████████████████████████████████████████████████████| Time: 0:00:03\u001b[39m\n"
     ]
    }
   ],
   "source": [
    "u = wannier_from_save(wave_functions_list)\n",
    "k_map, brillouin_zone = i_kpoint_map(wave_functions_list);\n",
    "# wave_functions_list = nothing # release the memory"
   ]
  },
  {
   "cell_type": "markdown",
   "id": "21459043-b91a-4a5d-9afc-a0439087518b",
   "metadata": {},
   "source": [
    "## Notations"
   ]
  },
  {
   "cell_type": "markdown",
   "id": "0243aef8-c47a-49fe-82ae-5477fdcc0db6",
   "metadata": {},
   "source": [
    "### Grid Indexing\n",
    "\n",
    "Indexing a grid yields a grid vector. \n",
    "For example, indexing the Brillouin zone yields a kpoint."
   ]
  },
  {
   "cell_type": "code",
   "execution_count": 11,
   "id": "b063d89d-cd73-4a4a-90a7-04cca1f73650",
   "metadata": {},
   "outputs": [
    {
     "data": {
      "text/plain": [
       "grid: BrillouinZone\n",
       "_coefficients: [0, 0, 0]\n"
      ]
     },
     "execution_count": 11,
     "metadata": {},
     "output_type": "execute_result"
    }
   ],
   "source": [
    "Γ = brillouin_zone[0, 0, 0]"
   ]
  },
  {
   "cell_type": "markdown",
   "id": "b499c451-b63d-4336-b29b-ee02a79052b1",
   "metadata": {},
   "source": [
    "### Band Indexing\n",
    "\n",
    "Indexing the object `u` with a kpoint and a band index gives an orbital."
   ]
  },
  {
   "cell_type": "code",
   "execution_count": 12,
   "id": "f9d8e4cb-ae40-4535-a4b0-0fc41754bab1",
   "metadata": {},
   "outputs": [
    {
     "data": {
      "text/plain": [
       "ket\n",
       "grid:\n",
       "    type: ReciprocalLattice\n",
       "    domain: ((-12, 11), (-12, 11), (-12, 11))\n",
       "    basis:\n",
       "        ket: -0.612, -0.612, 0.612\n",
       "        ket: 0.612, 0.612, 0.612\n",
       "        ket: -0.612, 0.612, -0.612\n",
       "    \n",
       "kpoint:\n",
       "    grid: BrillouinZone\n",
       "    _coefficients: [0, 0, 0]\n",
       "    \n",
       "band:\n",
       "    1"
      ]
     },
     "execution_count": 12,
     "metadata": {},
     "output_type": "execute_result"
    }
   ],
   "source": [
    "u_1_Γ = u[Γ][1]"
   ]
  },
  {
   "cell_type": "markdown",
   "id": "a43335b3-f308-480b-9f54-7ff2578b71e0",
   "metadata": {},
   "source": [
    "### Orbital Indexing\n",
    "\n",
    "An orbital can be indexed by a grid vector, which can be obtained by indexing a grid."
   ]
  },
  {
   "cell_type": "code",
   "execution_count": 13,
   "id": "8355c41a-ed40-4342-bc43-d3a2f464c5f0",
   "metadata": {},
   "outputs": [
    {
     "data": {
      "text/plain": [
       "type: ReciprocalLattice\n",
       "domain: ((-12, 11), (-12, 11), (-12, 11))\n",
       "basis:\n",
       "    ket: -0.612, -0.612, 0.612\n",
       "    ket: 0.612, 0.612, 0.612\n",
       "    ket: -0.612, 0.612, -0.612\n"
      ]
     },
     "execution_count": 13,
     "metadata": {},
     "output_type": "execute_result"
    }
   ],
   "source": [
    "reciprocal_lattice = grid(u_1_Γ)"
   ]
  },
  {
   "cell_type": "code",
   "execution_count": 14,
   "id": "5f23df45-076b-4f79-97cd-808067d51dfe",
   "metadata": {},
   "outputs": [
    {
     "data": {
      "text/plain": [
       "0.99999976f0"
      ]
     },
     "execution_count": 14,
     "metadata": {},
     "output_type": "execute_result"
    }
   ],
   "source": [
    "orbital_norm = 0\n",
    "for G in reciprocal_lattice\n",
    "    orbital_norm += abs2(u_1_Γ[G])\n",
    "end\n",
    "orbital_norm"
   ]
  },
  {
   "cell_type": "markdown",
   "id": "50d61cf7-38fd-4ec9-b028-9d3681820133",
   "metadata": {},
   "source": [
    "### Perform a Fourier transform."
   ]
  },
  {
   "cell_type": "code",
   "execution_count": 15,
   "id": "852739d8-70ea-4123-947a-756e546fb316",
   "metadata": {},
   "outputs": [],
   "source": [
    "u_real = ifft(u);"
   ]
  },
  {
   "cell_type": "markdown",
   "id": "2bb36aa9-b9d3-4471-a8ee-4565e12f8d50",
   "metadata": {},
   "source": [
    "### Perform an SCDM."
   ]
  },
  {
   "cell_type": "code",
   "execution_count": 16,
   "id": "6c36ba13-3424-47e3-a1d9-541500081e0a",
   "metadata": {},
   "outputs": [
    {
     "name": "stderr",
     "output_type": "stream",
     "text": [
      "\u001b[32mProgress: 100%|████████████████████████████████████████████████████████████████████████████████████████████████████████████████████████████████████████████████████████████████████████████████████████████████████████████████████████| Time: 0:00:01\u001b[39m\n"
     ]
    }
   ],
   "source": [
    "U = scdm_condense_phase(u_real, collect(1:20));"
   ]
  },
  {
   "cell_type": "markdown",
   "id": "475d360a-92b4-403f-ad34-3e6bb734fe41",
   "metadata": {},
   "source": [
    "Verify the result by comparing it to the output of Anil's Matlab code.\n",
    "We read the `amn` file produced by the Matlab code and contruct a gauge."
   ]
  },
  {
   "cell_type": "code",
   "execution_count": 17,
   "id": "352580a7-e63e-48bb-b3b0-92367d3429f7",
   "metadata": {},
   "outputs": [],
   "source": [
    "amn = AMN(joinpath(test_1_dir, \"unk\", \"si.amn\"))\n",
    "U_matlab = Gauge(brillouin_zone, amn, k_map, false);"
   ]
  },
  {
   "cell_type": "code",
   "execution_count": 19,
   "id": "91270c60-5fd8-457b-a382-0cc2e247e361",
   "metadata": {},
   "outputs": [],
   "source": [
    "for k in brillouin_zone\n",
    "    @test norm(U[k] - U_matlab[k]) < 1e-5\n",
    "end"
   ]
  },
  {
   "cell_type": "markdown",
   "id": "0747d833-eac1-4be2-9df0-31293f01b137",
   "metadata": {},
   "source": [
    "### Centers and Spreads\n",
    "\n",
    "Compute the centers and the spreads of the Wannier function.\n",
    "The numeric values are outputs from Wannier90.\n",
    "\n",
    "Constructing the MMN matrix is in fact a $O(N^2 N_g N_b)$ time algorithm. $N_b$ is the number of neighbors, which can be treated as a constant."
   ]
  },
  {
   "cell_type": "code",
   "execution_count": 20,
   "id": "6b16e0f9-0c8d-4dfb-b24b-e53208d7c499",
   "metadata": {
    "tags": []
   },
   "outputs": [
    {
     "name": "stderr",
     "output_type": "stream",
     "text": [
      "\u001b[32mProgress: 100%|████████████████████████████████████████████████████████████████████████████████████████████████████████████████████████████████████████████████████████████████████████████████████████████████████████████████████████| Time: 0:00:03\u001b[39m\n"
     ]
    }
   ],
   "source": [
    "scheme = W90FiniteDifference(u);"
   ]
  },
  {
   "cell_type": "code",
   "execution_count": 21,
   "id": "ae5f7e5f-337d-44ae-8bbb-9b524f4b86e1",
   "metadata": {
    "tags": []
   },
   "outputs": [],
   "source": [
    "M = gauge_transform(neighbor_basis_integral(scheme), U);"
   ]
  },
  {
   "cell_type": "code",
   "execution_count": 22,
   "id": "0f89166a-d70b-41d7-b711-610af7c439c9",
   "metadata": {},
   "outputs": [
    {
     "data": {
      "text/plain": [
       "\u001b[32m\u001b[1mTest Passed\u001b[22m\u001b[39m"
      ]
     },
     "execution_count": 22,
     "metadata": {},
     "output_type": "execute_result"
    }
   ],
   "source": [
    "@test isapprox(center(M, scheme, 1), [1.751302, -3.656156, -3.154520], atol = 1e-6)\n",
    "@test isapprox(center(M, scheme, 2), [0.662933, 1.224859, 0.588340], atol = 1e-6)\n",
    "@test isapprox(center(M, scheme, 3), [0.751350, -1.252297, 0.334295], atol = 1e-6)\n",
    "@test isapprox(center(M, scheme, 4), [0.745342, 0.390014, -1.239850], atol = 1e-6)"
   ]
  },
  {
   "cell_type": "code",
   "execution_count": 23,
   "id": "938e0da1-3315-4f5c-bced-44da269251dd",
   "metadata": {},
   "outputs": [
    {
     "data": {
      "text/plain": [
       "\u001b[32m\u001b[1mTest Passed\u001b[22m\u001b[39m"
      ]
     },
     "execution_count": 23,
     "metadata": {},
     "output_type": "execute_result"
    }
   ],
   "source": [
    "spread(n) = second_moment(M, scheme, n) - norm(center(M, scheme, n))^2\n",
    "\n",
    "@test isapprox(spread(1), 15.47179726, atol = 1e-6)\n",
    "@test isapprox(spread(2), 13.17038702, atol = 1e-6)\n",
    "@test isapprox(spread(3), 7.64407335, atol = 1e-6)\n",
    "@test isapprox(spread(4), 8.25678268, atol = 1e-6)"
   ]
  },
  {
   "cell_type": "code",
   "execution_count": null,
   "id": "553ff531-c17a-4123-b319-6ddc54aace1a",
   "metadata": {},
   "outputs": [],
   "source": [
    "using CairoMakie"
   ]
  },
  {
   "cell_type": "code",
   "execution_count": null,
   "id": "f145b95f-04a8-4b4f-b15f-e964ace88edb",
   "metadata": {},
   "outputs": [],
   "source": [
    "scatter(1:20, spread.(1:20))"
   ]
  },
  {
   "cell_type": "code",
   "execution_count": null,
   "id": "57f6d1e9-7de9-44ad-ba02-27ab71482c85",
   "metadata": {},
   "outputs": [],
   "source": []
  }
 ],
 "metadata": {
  "kernelspec": {
   "display_name": "Julia 1.6.2",
   "language": "julia",
   "name": "julia-1.6"
  },
  "language_info": {
   "file_extension": ".jl",
   "mimetype": "application/julia",
   "name": "julia",
   "version": "1.6.3"
  }
 },
 "nbformat": 4,
 "nbformat_minor": 5
}
