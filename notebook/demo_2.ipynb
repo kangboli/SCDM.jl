{
 "cells": [
  {
   "cell_type": "code",
   "execution_count": 7,
   "id": "16213f78-64bb-44d7-bdc1-15de43775ed4",
   "metadata": {},
   "outputs": [
    {
     "name": "stderr",
     "output_type": "stream",
     "text": [
      "┌ Info: Precompiling WTP [7f2d596f-d764-40ee-883d-fa5ff5538bc6]\n",
      "└ @ Base loading.jl:1342\n",
      "┌ Info: Precompiling SCDM [1a6f3412-296b-4a74-a079-535a7d500bdf]\n",
      "└ @ Base loading.jl:1342\n"
     ]
    }
   ],
   "source": [
    "using WTP\n",
    "using SCDM\n",
    "using Test\n",
    "using LinearAlgebra"
   ]
  },
  {
   "cell_type": "code",
   "execution_count": 8,
   "id": "511c5ef8-bf72-499b-86a0-c622c95601d1",
   "metadata": {},
   "outputs": [],
   "source": [
    "const test_1_dir = \"../test/test_data/test_1\"\n",
    "wave_functions_list = wave_functions_from_directory(joinpath(test_1_dir, \"si.save\"));"
   ]
  },
  {
   "cell_type": "code",
   "execution_count": 9,
   "id": "43d107f5-a622-4d6d-8344-36e4ea576492",
   "metadata": {},
   "outputs": [
    {
     "name": "stderr",
     "output_type": "stream",
     "text": [
      "\u001b[32mProgress: 100%|████████████████████████████████████████████████████████████████████████████████████████████████████████████████████████████████████████████████████████████████████████████████████████████████████████████████████████| Time: 0:00:03\u001b[39m\n"
     ]
    }
   ],
   "source": [
    "u = wannier_from_save(wave_functions_list)\n",
    "k_map, brillouin_zone = i_kpoint_map(wave_functions_list);\n",
    "# wave_functions_list = nothing # release the memory"
   ]
  }
 ],
 "metadata": {
  "kernelspec": {
   "display_name": "Julia 1.6.2",
   "language": "julia",
   "name": "julia-1.6"
  },
  "language_info": {
   "file_extension": ".jl",
   "mimetype": "application/julia",
   "name": "julia",
   "version": "1.6.3"
  }
 },
 "nbformat": 4,
 "nbformat_minor": 5
}
